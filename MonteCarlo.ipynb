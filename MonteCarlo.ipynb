{
 "cells": [
  {
   "cell_type": "code",
   "execution_count": 1,
   "metadata": {
    "collapsed": true
   },
   "outputs": [],
   "source": [
    "import random"
   ]
  },
  {
   "cell_type": "markdown",
   "metadata": {},
   "source": [
    "User controlled variables and other hyper-parameters"
   ]
  },
  {
   "cell_type": "code",
   "execution_count": 2,
   "metadata": {
    "collapsed": true
   },
   "outputs": [],
   "source": [
    "GAMMA = 0.9\n",
    "\n",
    "#All possible actions defined\n",
    "ACTION_UP = 'up'\n",
    "ACTION_DOWN = 'down'\n",
    "ACTION_LEFT = 'left'\n",
    "ACTION_RIGHT = 'right'\n",
    "\n",
    "#Number of episodes to consider\n",
    "NUMBER_OF_EPISODES = 2\n",
    "\n",
    "#Start and end of any episode\n",
    "START_STATE = '00'\n",
    "END_STATE = '15'"
   ]
  },
  {
   "cell_type": "markdown",
   "metadata": {},
   "source": [
    "The following section defines the MDP"
   ]
  },
  {
   "cell_type": "code",
   "execution_count": 3,
   "metadata": {
    "collapsed": true
   },
   "outputs": [],
   "source": [
    "all_states = ['00', '01', '02', '03',\n",
    "          '04', '05', '06', '07',\n",
    "          '08', '09', '10', '11',\n",
    "          '12', '13', '14', '15']\n",
    "\n",
    "immediate_state_rewards = {\n",
    "'00': -1,\n",
    "'01': -1,\n",
    "'02': -1,\n",
    "'03': -1,\n",
    "'04': -1,\n",
    "'05': -1,\n",
    "'06': -1,\n",
    "'07': -1,\n",
    "'08': -1,\n",
    "'09': -1,\n",
    "'10': -1,\n",
    "'11': -1,\n",
    "'12': -1,\n",
    "'13': -1,\n",
    "'14': -1,\n",
    "'15': 0\n",
    "}\n",
    "\n",
    "all_transitions =  {\n",
    "'00': {ACTION_UP : '00', ACTION_RIGHT : '01', ACTION_DOWN: '04', ACTION_LEFT: '00'},\n",
    "'01': {ACTION_UP : '01', ACTION_RIGHT : '02', ACTION_DOWN: '05', ACTION_LEFT: '00'},\n",
    "'02': {ACTION_UP : '02', ACTION_RIGHT : '03', ACTION_DOWN: '06', ACTION_LEFT: '01'},\n",
    "'03': {ACTION_UP : '03', ACTION_RIGHT : '03', ACTION_DOWN: '07', ACTION_LEFT: '02'},\n",
    "'04': {ACTION_UP : '00', ACTION_RIGHT : '05', ACTION_DOWN: '08', ACTION_LEFT: '04'},\n",
    "'05': {ACTION_UP : '01', ACTION_RIGHT : '06', ACTION_DOWN: '09', ACTION_LEFT: '04'},\n",
    "'06': {ACTION_UP : '02', ACTION_RIGHT : '07', ACTION_DOWN: '10', ACTION_LEFT: '05'},\n",
    "'07': {ACTION_UP : '03', ACTION_RIGHT : '07', ACTION_DOWN: '11', ACTION_LEFT: '06'},\n",
    "'08': {ACTION_UP : '04', ACTION_RIGHT : '09', ACTION_DOWN: '12', ACTION_LEFT: '08'},\n",
    "'09': {ACTION_UP : '05', ACTION_RIGHT : '10', ACTION_DOWN: '13', ACTION_LEFT: '08'},\n",
    "'10': {ACTION_UP : '06', ACTION_RIGHT : '11', ACTION_DOWN: '14', ACTION_LEFT: '09'},\n",
    "'11': {ACTION_UP : '07', ACTION_RIGHT : '11', ACTION_DOWN: '15', ACTION_LEFT: '10'},\n",
    "'12': {ACTION_UP : '08', ACTION_RIGHT : '13', ACTION_DOWN: '12', ACTION_LEFT: '12'},\n",
    "'13': {ACTION_UP : '09', ACTION_RIGHT : '14', ACTION_DOWN: '13', ACTION_LEFT: '12'},\n",
    "'14': {ACTION_UP : '10', ACTION_RIGHT : '15', ACTION_DOWN: '14', ACTION_LEFT: '13'},\n",
    "'15': {ACTION_UP : '15', ACTION_RIGHT : '15', ACTION_DOWN: '15', ACTION_LEFT: '15'},\n",
    "}"
   ]
  },
  {
   "cell_type": "code",
   "execution_count": 7,
   "metadata": {
    "collapsed": true
   },
   "outputs": [],
   "source": [
    "def printGridWorld(all_states):\n",
    "    for state in all_states:\n",
    "        if (int(state)) % 4 == 0:\n",
    "            print(\"\\n\")\n",
    "        print(state, \"\\t\", end='')\n",
    "        \n",
    "def chooseActionForRandomSampling(random_throw):\n",
    "    if random_throw < 0.25:\n",
    "        return ACTION_UP\n",
    "    elif random_throw < 0.5:\n",
    "        return ACTION_RIGHT\n",
    "    elif random_throw < 0.75:\n",
    "        return ACTION_DOWN\n",
    "    else:\n",
    "        return ACTION_LEFT\n",
    "\n",
    "def generateRandomlySampledEpisode():\n",
    "    current_state = START_STATE\n",
    "    states_in_episode = [current_state]\n",
    "    actions_in_episode = []\n",
    "    while current_state != END_STATE:\n",
    "        random_throw = random.uniform(0, 1)\n",
    "        action = chooseActionForRandomSampling(random_throw)\n",
    "        actions_in_episode.append(action)\n",
    "        current_state = all_transitions.get(current_state).get(action)\n",
    "        states_in_episode.append(current_state)\n",
    "    return states_in_episode, actions_in_episode\n",
    "\n",
    "def chooseActionForImportanceSampling(random_throw):\n",
    "    if random_throw < 0.5:\n",
    "        return ACTION_RIGHT\n",
    "    else:\n",
    "        return ACTION_DOWN\n",
    "\n",
    "def generateImportanceSampledEpisode():\n",
    "    current_state = START_STATE\n",
    "    states_in_episode = [current_state]\n",
    "    actions_in_episode = []\n",
    "    while current_state != END_STATE:\n",
    "        random_throw = random.uniform(0, 1)\n",
    "        action = chooseActionForImportanceSampling(random_throw)\n",
    "        actions_in_episode.append(action)\n",
    "        current_state = all_transitions.get(current_state).get(action)\n",
    "        states_in_episode.append(current_state)\n",
    "    return states_in_episode, actions_in_episode"
   ]
  },
  {
   "cell_type": "code",
   "execution_count": 5,
   "metadata": {
    "collapsed": false
   },
   "outputs": [
    {
     "name": "stdout",
     "output_type": "stream",
     "text": [
      "\n",
      "\n",
      "00 \t01 \t02 \t03 \t\n",
      "\n",
      "04 \t05 \t06 \t07 \t\n",
      "\n",
      "08 \t09 \t10 \t11 \t\n",
      "\n",
      "12 \t13 \t14 \t15 \t"
     ]
    }
   ],
   "source": [
    "printGridWorld(all_states)"
   ]
  },
  {
   "cell_type": "code",
   "execution_count": 6,
   "metadata": {
    "collapsed": false
   },
   "outputs": [
    {
     "name": "stdout",
     "output_type": "stream",
     "text": [
      "EPISODE NUMBER  0\n",
      "['00', '00', '04', '04', '00', '04', '00', '00', '01', '01', '01', '00', '00', '00', '04', '04', '05', '09', '08', '09', '05', '06', '02', '02', '01', '05', '04', '05', '06', '02', '01', '01', '01', '05', '01', '02', '03', '03', '07', '07', '06', '05', '04', '05', '04', '00', '00', '01', '00', '04', '05', '09', '08', '09', '10', '11', '11', '07', '07', '03', '03', '03', '03', '07', '11', '10', '09', '05', '09', '08', '09', '05', '09', '10', '09', '13', '12', '08', '12', '13', '13', '13', '13', '12', '13', '13', '09', '08', '08', '04', '08', '12', '08', '08', '08', '12', '12', '08', '04', '04', '05', '04', '05', '04', '04', '08', '09', '10', '09', '05', '09', '13', '12', '12', '12', '08', '08', '04', '00', '01', '00', '00', '04', '04', '08', '09', '13', '13', '12', '12', '12', '12', '08', '09', '08', '12', '12', '12', '12', '13', '14', '15']\n",
      "['left', 'down', 'left', 'up', 'down', 'up', 'left', 'right', 'up', 'up', 'left', 'up', 'up', 'down', 'left', 'right', 'down', 'left', 'right', 'up', 'right', 'up', 'up', 'left', 'down', 'left', 'right', 'right', 'up', 'left', 'up', 'up', 'down', 'up', 'right', 'right', 'up', 'down', 'right', 'left', 'left', 'left', 'right', 'left', 'up', 'left', 'right', 'left', 'down', 'right', 'down', 'left', 'right', 'right', 'right', 'right', 'up', 'right', 'up', 'right', 'right', 'right', 'down', 'down', 'left', 'left', 'up', 'down', 'left', 'right', 'up', 'down', 'right', 'left', 'down', 'left', 'up', 'down', 'right', 'down', 'down', 'down', 'left', 'right', 'down', 'up', 'left', 'left', 'up', 'down', 'down', 'up', 'left', 'left', 'down', 'down', 'up', 'up', 'left', 'right', 'left', 'right', 'left', 'left', 'down', 'right', 'right', 'left', 'up', 'down', 'down', 'left', 'down', 'down', 'up', 'left', 'up', 'up', 'right', 'left', 'up', 'down', 'left', 'down', 'right', 'down', 'down', 'left', 'down', 'down', 'left', 'up', 'right', 'left', 'down', 'left', 'down', 'down', 'right', 'right', 'right']\n",
      "\n",
      "EPISODE NUMBER  1\n",
      "['00', '00', '00', '01', '05', '09', '13', '09', '05', '01', '02', '02', '06', '05', '09', '13', '14', '15']\n",
      "['up', 'left', 'right', 'down', 'down', 'down', 'up', 'up', 'up', 'right', 'up', 'down', 'left', 'down', 'down', 'right', 'right']\n",
      "\n"
     ]
    }
   ],
   "source": [
    "for episode_iterator in range(NUMBER_OF_EPISODES):\n",
    "    states_in_episode, actions_in_episode = generateRandomlySampledEpisode()\n",
    "    print(\"EPISODE NUMBER \", episode_iterator)\n",
    "    print(states_in_episode)\n",
    "    print(actions_in_episode)\n",
    "    print('')"
   ]
  },
  {
   "cell_type": "code",
   "execution_count": 8,
   "metadata": {
    "collapsed": false
   },
   "outputs": [
    {
     "name": "stdout",
     "output_type": "stream",
     "text": [
      "EPISODE NUMBER  0\n",
      "['00', '01', '05', '09', '13', '14', '15']\n",
      "['right', 'down', 'down', 'down', 'right', 'right']\n",
      "\n",
      "EPISODE NUMBER  1\n",
      "['00', '04', '08', '09', '13', '14', '15']\n",
      "['down', 'down', 'right', 'down', 'right', 'right']\n",
      "\n"
     ]
    }
   ],
   "source": [
    "for episode_iterator in range(NUMBER_OF_EPISODES):\n",
    "    states_in_episode, actions_in_episode = generateImportanceSampledEpisode()\n",
    "    print(\"EPISODE NUMBER \", episode_iterator)\n",
    "    print(states_in_episode)\n",
    "    print(actions_in_episode)\n",
    "    print('')"
   ]
  },
  {
   "cell_type": "code",
   "execution_count": null,
   "metadata": {
    "collapsed": true
   },
   "outputs": [],
   "source": []
  }
 ],
 "metadata": {
  "kernelspec": {
   "display_name": "Python 3",
   "language": "python",
   "name": "python3"
  },
  "language_info": {
   "codemirror_mode": {
    "name": "ipython",
    "version": 3
   },
   "file_extension": ".py",
   "mimetype": "text/x-python",
   "name": "python",
   "nbconvert_exporter": "python",
   "pygments_lexer": "ipython3",
   "version": "3.4.3"
  }
 },
 "nbformat": 4,
 "nbformat_minor": 0
}
